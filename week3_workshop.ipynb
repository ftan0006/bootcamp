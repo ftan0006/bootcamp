{
 "cells": [
  {
   "cell_type": "code",
   "execution_count": 1,
   "metadata": {},
   "outputs": [
    {
     "name": "stdout",
     "output_type": "stream",
     "text": [
      "Hello World\n"
     ]
    }
   ],
   "source": [
    "# My very first line of code\n",
    "print(\"Hello World\")"
   ]
  },
  {
   "cell_type": "code",
   "execution_count": 2,
   "metadata": {},
   "outputs": [
    {
     "name": "stdout",
     "output_type": "stream",
     "text": [
      "hello\n"
     ]
    }
   ],
   "source": [
    "# Chapter 2 python basics\n",
    "print(\"hello\")    # inline comment"
   ]
  },
  {
   "cell_type": "code",
   "execution_count": 3,
   "metadata": {},
   "outputs": [
    {
     "name": "stdout",
     "output_type": "stream",
     "text": [
      "2\n",
      "10\n"
     ]
    }
   ],
   "source": [
    "\"\"\" \n",
    "this is a multi-line comment\n",
    "\"\"\"\n",
    "# the following are all integers\n",
    "print(2)\n",
    "print(10) "
   ]
  },
  {
   "cell_type": "code",
   "execution_count": 4,
   "metadata": {},
   "outputs": [
    {
     "name": "stdout",
     "output_type": "stream",
     "text": [
      "10.953\n",
      "8.0\n"
     ]
    }
   ],
   "source": [
    "# the following are all floats\n",
    "print(10.953)\n",
    "print(8.0)"
   ]
  },
  {
   "cell_type": "code",
   "execution_count": 5,
   "metadata": {},
   "outputs": [
    {
     "name": "stdout",
     "output_type": "stream",
     "text": [
      "True\n",
      "False\n"
     ]
    }
   ],
   "source": [
    "# the following are booleans\n",
    "print(True)\n",
    "print(False)"
   ]
  },
  {
   "cell_type": "code",
   "execution_count": 6,
   "metadata": {},
   "outputs": [
    {
     "name": "stdout",
     "output_type": "stream",
     "text": [
      " \n",
      "There's a snake in my boot!\n",
      "True\n"
     ]
    }
   ],
   "source": [
    "# the following are strings\n",
    "print(\" \")\n",
    "print(\"There's a snake in my boot!\")\n",
    "print('True')"
   ]
  },
  {
   "cell_type": "code",
   "execution_count": 7,
   "metadata": {},
   "outputs": [
    {
     "name": "stdout",
     "output_type": "stream",
     "text": [
      "Ruby\n"
     ]
    },
    {
     "data": {
      "text/plain": [
       "type"
      ]
     },
     "execution_count": 7,
     "metadata": {},
     "output_type": "execute_result"
    }
   ],
   "source": [
    "# Monday's exercise\n",
    "print(\"Ruby\")\n",
    "type(int) # will output <class 'int'>"
   ]
  },
  {
   "cell_type": "code",
   "execution_count": 8,
   "metadata": {},
   "outputs": [
    {
     "name": "stdout",
     "output_type": "stream",
     "text": [
      "5 8.4\n"
     ]
    }
   ],
   "source": [
    "num1=5 #store an integer into a variable\n",
    "num2=8.4 #store a float into a variable\n",
    "print(num1, num2) #you can print multiple items using commas"
   ]
  },
  {
   "cell_type": "code",
   "execution_count": 9,
   "metadata": {},
   "outputs": [
    {
     "name": "stdout",
     "output_type": "stream",
     "text": [
      "True\n"
     ]
    }
   ],
   "source": [
    "#storing a boolean into a variable\n",
    "switch=True\n",
    "print(switch)"
   ]
  },
  {
   "cell_type": "code",
   "execution_count": 10,
   "metadata": {},
   "outputs": [
    {
     "name": "stdout",
     "output_type": "stream",
     "text": [
      "Ruby Tang 5\n"
     ]
    }
   ],
   "source": [
    "#storing strings into a variable\n",
    "name= 'Ruby Tang'\n",
    "fav_number= '5'\n",
    "print(name, fav_number)  #will print 5 next to name"
   ]
  },
  {
   "cell_type": "code",
   "execution_count": 11,
   "metadata": {},
   "outputs": [
    {
     "name": "stdout",
     "output_type": "stream",
     "text": [
      "13.4\n"
     ]
    }
   ],
   "source": [
    "#use 2 variables to create another variable \n",
    "result= num1 + num2\n",
    "print(result)"
   ]
  },
  {
   "cell_type": "code",
   "execution_count": 12,
   "metadata": {},
   "outputs": [
    {
     "name": "stdout",
     "output_type": "stream",
     "text": [
      "14.4\n",
      "72.0\n"
     ]
    }
   ],
   "source": [
    "#adding, deleting, multiplying, dividing from a variable\n",
    "result +=1 #saying result + 1\n",
    "print (result)\n",
    "result *=num1 #same as saying result * num1\n",
    "print(result)"
   ]
  },
  {
   "cell_type": "code",
   "execution_count": 13,
   "metadata": {},
   "outputs": [
    {
     "name": "stdout",
     "output_type": "stream",
     "text": [
      "Ruby\n",
      "Phoebe\n"
     ]
    }
   ],
   "source": [
    "#defining a variable and overwriting it's value\n",
    "name= 'Ruby'\n",
    "print(name)\n",
    "name='Phoebe'\n",
    "print(name)"
   ]
  },
  {
   "cell_type": "code",
   "execution_count": 14,
   "metadata": {},
   "outputs": [
    {
     "name": "stdout",
     "output_type": "stream",
     "text": [
      "13\n",
      "3354.0764\n"
     ]
    }
   ],
   "source": [
    "#TUESDAY'S EXERCISE\n",
    "x=3\n",
    "y=10\n",
    "result= x + y\n",
    "print(result)\n",
    "\n",
    "height= 245.54\n",
    "width= 13.66\n",
    "area= height * width\n",
    "print(area)\n"
   ]
  },
  {
   "cell_type": "code",
   "execution_count": 19,
   "metadata": {},
   "outputs": [
    {
     "name": "stdout",
     "output_type": "stream",
     "text": [
      "Ruby Tang\n",
      "Ruby Tang\n"
     ]
    }
   ],
   "source": [
    "# using the addition operator without variables\n",
    "name= \"Ruby\" + \" \" + \"Tang\"\n",
    "print(name)\n",
    "\n",
    "#using the addition operator with variables\n",
    "first_name= \"Ruby\"\n",
    "last_name= \"Tang\"\n",
    "full_name= first_name + \" \" + last_name\n",
    "print(full_name)"
   ]
  },
  {
   "cell_type": "code",
   "execution_count": 20,
   "metadata": {},
   "outputs": [
    {
     "name": "stdout",
     "output_type": "stream",
     "text": [
      "Hello Ruby\n",
      "Hello Ruby, you are 25 years old!\n"
     ]
    }
   ],
   "source": [
    "# injecting variables using the format method\n",
    "name= \"Ruby\"\n",
    "print(\"Hello {}\".format(name) )\n",
    "print( \"Hello {}, you are {} years old!\".format(name, 25) )"
   ]
  },
  {
   "cell_type": "code",
   "execution_count": 24,
   "metadata": {},
   "outputs": [
    {
     "name": "stdout",
     "output_type": "stream",
     "text": [
      "Hello Ruby\n",
      "Hello, Ruby\n",
      "Hello, Ruby Tang\n"
     ]
    }
   ],
   "source": [
    "#using f srings\n",
    "name='Ruby'\n",
    "print( f\"Hello {name}\")\n",
    "\n",
    "#major difference between versions 2&3\n",
    "name= 'Ruby'\n",
    "print('Hello, %s' %name)\n",
    "\n",
    "# python 2 multiple variable formatting\n",
    "first_name = \"Ruby\"\n",
    "last_name = \"Tang\"\n",
    "print( \"Hello, %s %s\" % (first_name, last_name) )\n",
    "# surround the variables in parenthesis"
   ]
  },
  {
   "cell_type": "code",
   "execution_count": 27,
   "metadata": {},
   "outputs": [
    {
     "name": "stdout",
     "output_type": "stream",
     "text": [
      "H\n",
      "e\n",
      "o\n",
      "He\n",
      "Hlo\n"
     ]
    }
   ],
   "source": [
    "# using indexes to print each element\n",
    "word = \"Hello\"\n",
    "print( word[ 0 ] ) # will output 'H'\n",
    "print( word[ 1 ] ) # will output 'e'\n",
    "print( word[ -1 ] ) # will output 'o'\n",
    "\n",
    "print( word[ 0 : 2 ] ) # will output 'He'\n",
    "print( word[ 0 : 5 : 2 ] ) # will output 'Hlo'\n"
   ]
  },
  {
   "cell_type": "code",
   "execution_count": 32,
   "metadata": {},
   "outputs": [
    {
     "name": "stdout",
     "output_type": "stream",
     "text": [
      "23 4.5 False John\n",
      "Ruby's favourite sport is running.\n",
      "Ruby is working on python programming!\n"
     ]
    }
   ],
   "source": [
    "#WEDNESDAY'S EXERCISE\n",
    "integer=23\n",
    "float=4.5\n",
    "boolean=False\n",
    "string='John'\n",
    "print(integer, float, boolean, string)\n",
    "\n",
    "name='Ruby'\n",
    "sport='running'\n",
    "program='python'\n",
    "print ( \"{}'s favourite sport is {}.\".format(name, sport))\n",
    "print ( \"{} is working on {} programming!\" .format(name, program))"
   ]
  },
  {
   "cell_type": "code",
   "execution_count": null,
   "metadata": {},
   "outputs": [
    {
     "name": "stdout",
     "output_type": "stream",
     "text": [
      "Ruby Tang\n",
      "ruby tang\n",
      "RUBY TANG\n"
     ]
    }
   ],
   "source": [
    "#using the title method to capitalise, lowercase and uppercase a string\n",
    "name='ruby tang'\n",
    "print(name.title())\n",
    "print(name.lower( )) \n",
    "print(name.upper( ))"
   ]
  },
  {
   "cell_type": "code",
   "execution_count": 40,
   "metadata": {},
   "outputs": [
    {
     "name": "stdout",
     "output_type": "stream",
     "text": [
      "Hello there.\n",
      "5\n",
      "['these', 'words', 'are', 'separated', 'by', 'spaces']\n"
     ]
    }
   ],
   "source": [
    "#replace an exclamation point with a period\n",
    "words= \"Hello there!\"\n",
    "print ( words.replace(\"!\",\".\"))\n",
    "\n",
    "#find the starting index of our searched term\n",
    "s= \"look over that way\"\n",
    "print(s.find(\"over\"))\n",
    "\n",
    "#convert a string into a list of words\n",
    "s=\"these words are separated by spaces\"\n",
    "print(s.split (\" \"))"
   ]
  },
  {
   "cell_type": "code",
   "execution_count": 54,
   "metadata": {},
   "outputs": [
    {
     "ename": "SyntaxError",
     "evalue": "invalid syntax (3576098137.py, line 6)",
     "output_type": "error",
     "traceback": [
      "\u001b[1;36m  Cell \u001b[1;32mIn[54], line 6\u001b[1;36m\u001b[0m\n\u001b[1;33m    print(lstrip(string=, /))\u001b[0m\n\u001b[1;37m                        ^\u001b[0m\n\u001b[1;31mSyntaxError\u001b[0m\u001b[1;31m:\u001b[0m invalid syntax\n"
     ]
    }
   ],
   "source": [
    "#THURSDAY'S EXERCISES\n",
    "string= \"uppercase\"\n",
    "print(string.upper ())\n",
    "\n",
    "string=\"$$Ruby Tang\"\n",
    "print(lstrip(string=, /))"
   ]
  },
  {
   "cell_type": "code",
   "execution_count": 84,
   "metadata": {},
   "outputs": [
    {
     "name": "stdout",
     "output_type": "stream",
     "text": [
      "**************************************************\n",
      "Ruby's Cafe\n",
      "88 Matcha St\n",
      "Bubblestown, BBT\n",
      "==================================================\n",
      "\tProduct Name\tProduct Price\n",
      "\tBook\t\t$11.99\n",
      "\tMatcha\t\t$7.99\n",
      "\tTote\t\t$24.99\n",
      "==================================================\n",
      "\t\t\tTotal\n",
      "\t\t\t$44.97\n",
      "==================================================\n",
      "Enjoy your caffeine and book :)\n"
     ]
    }
   ],
   "source": [
    "#Create a product and price for three items\n",
    "p1_name, p1_price= \"Book\", 11.99\n",
    "p2_name, p2_price= \"Matcha\", 7.99 \n",
    "p3_name, p3_price= \"Tote\", 24.99\n",
    "\n",
    "#create a company name and info\n",
    "company_name= \"Ruby's Cafe\"\n",
    "company_address=\"88 Matcha St\"\n",
    "company_city= \"Bubblestown, BBT\"\n",
    "\n",
    "#declare ending message\n",
    "message=\"Enjoy your caffeine and book :)\"\n",
    "\n",
    "#create top border\n",
    "print(\"*\" *50)\n",
    "\n",
    "# print company information first, using format \n",
    "print(company_name)\n",
    "print(company_address)\n",
    "print(company_city)\n",
    "print(\"=\" *50)\n",
    "\n",
    "# print out header for section of items\n",
    "print(\"\\tProduct Name\\tProduct Price\")\n",
    "\n",
    "#print price statement for each product\n",
    "print( \"\\t{}\\t\\t${}\".format(p1_name, p1_price) )\n",
    "print( \"\\t{}\\t\\t${}\".format(p2_name, p2_price) )\n",
    "print( \"\\t{}\\t\\t${}\".format(p3_name, p3_price) )\n",
    "print(\"=\" *50)\n",
    "\n",
    "#print out header for section total\n",
    "print(\"\\t\\t\\tTotal\")\n",
    "\n",
    "#calculate total price and print\n",
    "total= p1_price + p2_price + p3_price\n",
    "print(\"\\t\\t\\t${}\".format(total) )\n",
    "print( \"=\" * 50)\n",
    "\n",
    "#output message\n",
    "print(message)\n"
   ]
  },
  {
   "cell_type": "code",
   "execution_count": null,
   "metadata": {},
   "outputs": [],
   "source": [
    "#Weekly challenge"
   ]
  },
  {
   "cell_type": "code",
   "execution_count": 5,
   "metadata": {},
   "outputs": [
    {
     "name": "stdout",
     "output_type": "stream",
     "text": [
      "ruby\n",
      "Hello ruby!\n"
     ]
    }
   ],
   "source": [
    "#chapter 3\n",
    "\n",
    "# accepting and outputting user input\n",
    "print( input(\"What is your name? \") )\n",
    "\n",
    "# saving what the user inputs\n",
    "ans = input(\"What is your name? \")\n",
    "print(\"Hello {}!\".format(ans) )\n"
   ]
  },
  {
   "cell_type": "code",
   "execution_count": 9,
   "metadata": {},
   "outputs": [
    {
     "name": "stdout",
     "output_type": "stream",
     "text": [
      "<class 'int'>\n",
      "<class 'int'>\n",
      "<class 'str'>\n",
      "100 + 10 = 110\n"
     ]
    }
   ],
   "source": [
    "# how to check the data type of a variable\n",
    "num = 5\n",
    "print( type(num) )\n",
    "\n",
    "# converting a variable from one data type to another\n",
    "num = \"9\"\n",
    "num = int(num) # re-declaring num to store an integer\n",
    "print( type(num) ) # checking type to make sure conversion worked\n",
    "\n",
    "# working with user input to perform calculations\n",
    "ans = input(\"Type a number to add: \")\n",
    "print( type(ans) ) # default type is string, must convert\n",
    "result = 100 + int(ans)\n",
    "print( \"100 + {} = {}\".format(ans, result) )"
   ]
  },
  {
   "cell_type": "code",
   "execution_count": 11,
   "metadata": {},
   "outputs": [
    {
     "name": "stdout",
     "output_type": "stream",
     "text": [
      "100 + 5.0 = 105.0\n",
      "The program did not break!\n"
     ]
    }
   ],
   "source": [
    "# using the try and except blocks, use tab to indent where necessary\n",
    "try:\n",
    "    ans = float( input(\"Type a number to add: \") )\n",
    "    print( \"100 + {} = {}\".format(ans, 100 + ans) )\n",
    "except:\n",
    "    print(\"You did not put in a valid number!\")\n",
    "# without try/except print statement would not get hit if error occurs\n",
    "print(\"The program did not break!\")"
   ]
  },
  {
   "cell_type": "code",
   "execution_count": null,
   "metadata": {},
   "outputs": [
    {
     "name": "stdout",
     "output_type": "stream",
     "text": [
      "<class 'bool'>\n"
     ]
    }
   ],
   "source": [
    "#MONDAY'S EXERCISE\n",
    "bool('True')\n",
    "print(bool)\n",
    "\n",
    "#need to complete this exercise :)\n"
   ]
  },
  {
   "cell_type": "code",
   "execution_count": null,
   "metadata": {},
   "outputs": [
    {
     "name": "stdout",
     "output_type": "stream",
     "text": [
      "x is less than y\n",
      "You got it right!\n",
      "Both statements were true\n",
      "One or both statements were true\n"
     ]
    }
   ],
   "source": [
    "# using an if statement to only run code if the condition is met\n",
    "x, y = 5, 10\n",
    "if x < y:\n",
    "    print(\"x is less than y\")\n",
    "\n",
    "# checking user input\n",
    "ans = int( input(\"What is 5 + 5? \") )\n",
    "if ans == 10:\n",
    "    print(\"You got it right!\")\n",
    "\n",
    "# using the keyword 'and' in an 'if statement'\n",
    "x, y, z = 5, 10, 5\n",
    "if x < y and x == z:\n",
    "    print(\"Both statements were true\")\n",
    "\n",
    "# using the keyword 'or' in an 'if statement'\n",
    "# != means that it doesn't equal\n",
    "x, y, z = 5, 10, 5\n",
    "if x < y or x != z:\n",
    "    print(\"One or both statements were true\")"
   ]
  },
  {
   "cell_type": "code",
   "execution_count": 21,
   "metadata": {},
   "outputs": [
    {
     "name": "stdout",
     "output_type": "stream",
     "text": [
      "Flag is False\n",
      "Baseball contains the character b\n",
      "Baseball does not contain the character x\n"
     ]
    }
   ],
   "source": [
    "# using the keyword 'not' within an 'if statement'\n",
    "flag = False\n",
    "if not flag: # same as saying if not true\n",
    "    print(\"Flag is False\")\n",
    "\n",
    "# using the keyword 'in' within an 'if statement'\n",
    "word = \"Baseball\"\n",
    "if \"b\" in word:\n",
    "    print( \"{} contains the character b\".format(word) )\n",
    "\n",
    "# using the keyword 'not in' within an 'if statement'\n",
    "word = \"Baseball\"\n",
    "if \"x\" not in word:\n",
    "    print( \"{} does not contain the character x\".format(word) )"
   ]
  },
  {
   "cell_type": "code",
   "execution_count": null,
   "metadata": {},
   "outputs": [
    {
     "name": "stdout",
     "output_type": "stream",
     "text": [
      "berry does not have the letters es\n"
     ]
    }
   ],
   "source": [
    "#TUESDAY'S EXERCISE\n",
    "#ask for user input to see if what they wrote es\n",
    "word = input(\"Type a random word \")\n",
    "if 'es' in word:\n",
    "    print( \"{} has the letters es\" .format(word) )\n",
    "if 'es' not in word:\n",
    "    print( \"{} does not have the letters es\" .format(word) )\n",
    "\n",
    "#complete rest of EXERCISES :D"
   ]
  },
  {
   "cell_type": "code",
   "execution_count": 32,
   "metadata": {},
   "outputs": [
    {
     "name": "stdout",
     "output_type": "stream",
     "text": [
      "x is less\n",
      "equal\n"
     ]
    }
   ],
   "source": [
    "# using the elif conditional statement\n",
    "x, y = 5, 10\n",
    "if x > y:\n",
    "    print(\"x is greater\")\n",
    "elif x < y:\n",
    "    print(\"x is less\")\n",
    "\n",
    "# checking more than one elif conditional statement\n",
    "x, y = 5, 10\n",
    "if x > y:\n",
    "    print(\"x is greater\")\n",
    "elif (x + 10) < y: # checking if 15 is less than 10\n",
    "    print(\"x is less\")\n",
    "elif (x + 5) == y: # checking if 10 is equal to 10\n",
    "    print(\"equal\")"
   ]
  },
  {
   "cell_type": "code",
   "execution_count": 33,
   "metadata": {},
   "outputs": [
    {
     "name": "stdout",
     "output_type": "stream",
     "text": [
      "x is equal to z\n"
     ]
    }
   ],
   "source": [
    "# writing multiple conditionals within each other - multiple block levels\n",
    "x, y, z = 5, 10, 5\n",
    "if x > y:\n",
    "    print(\"greater\")\n",
    "elif x <= y:\n",
    "    if x == z:\n",
    "        print(\"x is equal to z\") # resulting output\n",
    "    elif x != z:\n",
    "        print(\"x is not equal to z\") # won't get hit"
   ]
  },
  {
   "cell_type": "code",
   "execution_count": 34,
   "metadata": {},
   "outputs": [
    {
     "name": "stdout",
     "output_type": "stream",
     "text": [
      "x is less\n",
      "x is equal\n"
     ]
    }
   ],
   "source": [
    "# testing output of two if statements in a row that are both true\n",
    "x, y, z = 5, 10, 5\n",
    "if x < y:\n",
    "    print(\"x is less\")\n",
    "if x == z:\n",
    "    print(\"x is equal\")"
   ]
  },
  {
   "cell_type": "code",
   "execution_count": 44,
   "metadata": {},
   "outputs": [
    {
     "name": "stdout",
     "output_type": "stream",
     "text": [
      "1902 is greater than 100\n",
      "lower\n"
     ]
    }
   ],
   "source": [
    "#WEDNESDAY'S EXERCISES\n",
    "#Check if number is lower or higher than 100\n",
    "ans = input(\"Type a random number \")\n",
    "num =  int(ans)\n",
    "if num < 100:\n",
    "    print( \"{} is less than 100\" .format(num) )\n",
    "if num > 100:\n",
    "    print( \"{} is greater than 100\" .format(num) )\n",
    "if num == 100:\n",
    "    print( \"{} is equal to 100\" .format(num) )   \n",
    "\n",
    "# fix code to output lower\n",
    "x, y = 5, 10\n",
    "if x > y:\n",
    "    print(\"greater\")\n",
    "if x < y:\n",
    "    print(\"lower\")"
   ]
  },
  {
   "cell_type": "code",
   "execution_count": 52,
   "metadata": {},
   "outputs": [
    {
     "name": "stdout",
     "output_type": "stream",
     "text": [
      "Hello John!\n",
      "Name starts with a R\n"
     ]
    }
   ],
   "source": [
    "# using an else statement\n",
    "name = \"John\"\n",
    "if name == \"Jacob\":\n",
    "    print(\"Hello Jacob!\")\n",
    "else:\n",
    "    print(\"Hello {}!\".format(name) )\n",
    "\n",
    "# writing a full conditional statement with if, elif, else\n",
    "name = \"Ruby\"\n",
    "if name[0] == \"A\":\n",
    "    print(\"Name starts with an A\")\n",
    "elif name[0] == \"B\":\n",
    "    print(\"Name starts with a B\")\n",
    "elif name[0] == \"J\":\n",
    "    print(\"Name starts with a J\")\n",
    "else: # covers all other possibilities\n",
    "    print( \"Name starts with a {}\".format( name[0] ) )"
   ]
  },
  {
   "cell_type": "code",
   "execution_count": 72,
   "metadata": {},
   "outputs": [
    {
     "name": "stdout",
     "output_type": "stream",
     "text": [
      "Hello John\n",
      "Good afternoon :)\n"
     ]
    }
   ],
   "source": [
    "#THURSDAY'S EXERCISES\n",
    "#fix code to output hello John\n",
    "name = \"John\"\n",
    "if name == \"John\":\n",
    "    print(\"Hello John\")\n",
    "if name != \"John\":\n",
    "    print (\"Hello {}\" .format(name))\n",
    "\n",
    "#write a code to output a greeting for time of day\n",
    "num= input(\"Type in the time of day e.g. 5:00 pm= 1700 \")\n",
    "time =  int(num)\n",
    "if time < 1200:\n",
    "    print(\"Good morning :)\")\n",
    "elif 1700 > time >= 1200:\n",
    "    print(\"Good afternoon :)\")\n",
    "elif time >= 1700:\n",
    "    print(\"Good evening :)\")"
   ]
  },
  {
   "cell_type": "code",
   "execution_count": 87,
   "metadata": {},
   "outputs": [
    {
     "name": "stdout",
     "output_type": "stream",
     "text": [
      "You chose multiply.\n",
      "First Number: 5\n",
      "Second Number: 5\n",
      "5.0 * 5.0 = 25.0\n"
     ]
    }
   ],
   "source": [
    "# step 1: ask user for calculation to be performed\n",
    "operation = input(\"Would you like to add/subtract/multiply/divide? \").lower( )\n",
    "print( \"You chose {}.\".format(operation) ) # for testing purposes\n",
    "\n",
    "# step 2: ask for numbers, alert order matters for subtracting and dividing\n",
    "if operation == \"subtract\" or operation == \"divide\":\n",
    "    print( \"You chose {}.\".format(operation) )\n",
    "    print(\"Please keep in mind that the order of your numbers matter.\")\n",
    "num1 = input(\"What is the first number? \")\n",
    "num2 = input(\"What is the second number? \")\n",
    "print( \"First Number: {}\".format(num1) ) # for testing purposes\n",
    "print( \"Second Number: {}\".format(num2) ) # for testing purposes\n",
    "\n",
    "# step 3: setup try/except for mathematical operation\n",
    "try:\n",
    "    # step 3a: immediately try to convert numbers input to floats\n",
    "    num1, num2 = float(num1), float(num2)\n",
    "    # step 3b: perform operation and print result\n",
    "    if operation == \"add\":\n",
    "        result = num1 + num2\n",
    "        print( \"{} + {} = {}\".format(num1, num2, result) )\n",
    "    elif operation == \"subtract\":\n",
    "        result = num1 - num2\n",
    "        print( \"{} - {} = {}\".format(num1, num2, result) )\n",
    "    elif operation == \"multiply\":\n",
    "        result = num1 * num2\n",
    "        print( \"{} * {} = {}\".format(num1, num2, result) )\n",
    "    elif operation == \"divide\":\n",
    "        result = num1 / num2\n",
    "        print( \"{} / {} = {}\".format(num1, num2, result) )\n",
    "    else:\n",
    "        # else will be hit if they didn't chose an option correctly\n",
    "        print(\"Sorry, but '{}' is not an option.\".format(operation) )\n",
    "except:\n",
    "    # steb 3c: print error\n",
    "    print(\"Error: Improper numbers used. Please try again.\")"
   ]
  },
  {
   "cell_type": "code",
   "execution_count": 91,
   "metadata": {},
   "outputs": [
    {
     "name": "stdout",
     "output_type": "stream",
     "text": [
      "1.0 + 2.0 = 3.0\n"
     ]
    }
   ],
   "source": [
    "# step 1: ask user for calculation to be performed\n",
    "operation = input(\"Would you like to add/subtract/multiply/divide?\")\n",
    "\n",
    "# step 2: ask for numbers, alert order matters for subtracting and dividing\n",
    "if operation == \"subtract\" or operation == \"divide\":\n",
    "    print( \"You chose { }.\".format(operation) )\n",
    "    print(\"Please keep in mind that the order of your numbers matter.\")\n",
    "num1 = input(\"What is the first number? \")\n",
    "num2 = input(\"What is the second number? \")\n",
    "# step 3: setup try/except for mathematical operation\n",
    "try:\n",
    "    # step 3a: immediately try to convert numbers input to floats\n",
    "    num1, num2 = float(num1), float(num2)\n",
    "    # step 3b: perform operation and print result\n",
    "    if operation == \"add\":\n",
    "        result = num1 + num2\n",
    "        print( \"{} + {} = {}\".format(num1, num2, result) )\n",
    "    elif operation == \"subtract\":\n",
    "        result = num1 - num2\n",
    "        print( \"{} - {} = {}\".format(num1, num2, result) )\n",
    "    elif operation == \"multiply\":\n",
    "        result = num1 * num2\n",
    "        print( \"{} * {} = {}\".format(num1, num2, result) )\n",
    "    elif operation == \"divide\":\n",
    "        result = num1 / num2\n",
    "        print( \"{} / {} = {}\".format(num1, num2, result) )\n",
    "    else:\n",
    "        # else will be hit if they didn't chose an option correctly\n",
    "        print(\"Sorry, but '{}' is not an option.\".format(operation) )\n",
    "except:\n",
    "    # steb 3c: print error\n",
    "    print(\"Error: Improper numbers used. Please try again.\")"
   ]
  },
  {
   "cell_type": "code",
   "execution_count": null,
   "metadata": {},
   "outputs": [
    {
     "name": "stdout",
     "output_type": "stream",
     "text": [
      "Hello, my name is Ruby and I am 25 years old\n"
     ]
    }
   ],
   "source": [
    "#challenge 1\n",
    "#Try to input string values name and age into a sentence using .format ()\n",
    "name= \"Ruby\"\n",
    "age= \"25\"\n",
    "print(\"Hello, my name is {} and I am {} years old\" .format(name, age))"
   ]
  },
  {
   "cell_type": "code",
   "execution_count": null,
   "metadata": {},
   "outputs": [
    {
     "name": "stdout",
     "output_type": "stream",
     "text": [
      "<class 'str'>\n",
      "<class 'int'>\n",
      "<class 'float'>\n",
      "<class 'bool'>\n"
     ]
    }
   ],
   "source": [
    "#challenge 2\n",
    "#Try to assign different data types to variable names and get python to identify the value using type ()\n",
    "greeting= \"hello\"\n",
    "year_born= 1999\n",
    "height_in_metres= 1.55\n",
    "is_student=True\n",
    "print(type(greeting))\n",
    "print(type(year_born))\n",
    "print(type(height_in_metres))\n",
    "print(type(is_student))\n",
    "\n",
    "#type only works on one variable at a time"
   ]
  },
  {
   "cell_type": "code",
   "execution_count": 109,
   "metadata": {},
   "outputs": [
    {
     "name": "stdout",
     "output_type": "stream",
     "text": [
      "The total cost for 8 apples is 3.92 dollars.\n"
     ]
    }
   ],
   "source": [
    "#challenge 3\n",
    "#Try to calculate the price of apples \n",
    "price_apple=0.49    #price of apple\n",
    "num_apples=8   #number of apples\n",
    "total_cost= price_apple * num_apples\n",
    "print('The total cost for {} apples is {} dollars.' .format(num_apples, total_cost))"
   ]
  },
  {
   "cell_type": "code",
   "execution_count": 112,
   "metadata": {},
   "outputs": [
    {
     "name": "stdout",
     "output_type": "stream",
     "text": [
      "My current age is 25.\n",
      "My new age is 30.\n"
     ]
    }
   ],
   "source": [
    "#challenge 4\n",
    "#Assign an age and update it by adding 5 years \n",
    "current_age= 25\n",
    "print(\"My current age is {}.\" .format(current_age))\n",
    "updated_age=current_age + 5\n",
    "print(\"My new age is {}.\" .format(updated_age))"
   ]
  },
  {
   "cell_type": "code",
   "execution_count": null,
   "metadata": {},
   "outputs": [
    {
     "name": "stdout",
     "output_type": "stream",
     "text": [
      "x= 10\n",
      "y= 20\n",
      "(10, 20)\n"
     ]
    }
   ],
   "source": [
    "#challenge 5\n",
    "#Swapping values of two variables without assigning a temporary variable\n",
    "x,y= 10, 20\n",
    "x,y= y,x\n",
    "print('x=',x)\n",
    "print('y=', y)\n",
    "\n",
    "t= x,y #temporary value by removing second line of code by adding hash in front and print t\n"
   ]
  }
 ],
 "metadata": {
  "kernelspec": {
   "display_name": "Python 3",
   "language": "python",
   "name": "python3"
  },
  "language_info": {
   "codemirror_mode": {
    "name": "ipython",
    "version": 3
   },
   "file_extension": ".py",
   "mimetype": "text/x-python",
   "name": "python",
   "nbconvert_exporter": "python",
   "pygments_lexer": "ipython3",
   "version": "3.10.16"
  }
 },
 "nbformat": 4,
 "nbformat_minor": 2
}
